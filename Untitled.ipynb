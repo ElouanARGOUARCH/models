{
 "cells": [
  {
   "cell_type": "code",
   "execution_count": 1,
   "id": "43b8cf4a",
   "metadata": {},
   "outputs": [],
   "source": [
    "import torch\n",
    "%load_ext autoreload\n",
    "%autoreload 2\n",
    "from IPython.display import clear_output"
   ]
  },
  {
   "cell_type": "code",
   "execution_count": 2,
   "id": "4459f803",
   "metadata": {},
   "outputs": [
    {
     "name": "stdout",
     "output_type": "stream",
     "text": [
      "Downloading http://yann.lecun.com/exdb/mnist/train-images-idx3-ubyte.gz\n",
      "Downloading http://yann.lecun.com/exdb/mnist/train-images-idx3-ubyte.gz to targets\\data\\MNIST\\raw\\train-images-idx3-ubyte.gz\n"
     ]
    },
    {
     "data": {
      "application/vnd.jupyter.widget-view+json": {
       "model_id": "bf6f189353d243bca7447803a08a9cb5",
       "version_major": 2,
       "version_minor": 0
      },
      "text/plain": [
       "  0%|          | 0/9912422 [00:00<?, ?it/s]"
      ]
     },
     "metadata": {},
     "output_type": "display_data"
    },
    {
     "name": "stdout",
     "output_type": "stream",
     "text": [
      "Extracting targets\\data\\MNIST\\raw\\train-images-idx3-ubyte.gz to targets\\data\\MNIST\\raw\n",
      "\n",
      "Downloading http://yann.lecun.com/exdb/mnist/train-labels-idx1-ubyte.gz\n",
      "Downloading http://yann.lecun.com/exdb/mnist/train-labels-idx1-ubyte.gz to targets\\data\\MNIST\\raw\\train-labels-idx1-ubyte.gz\n"
     ]
    },
    {
     "data": {
      "application/vnd.jupyter.widget-view+json": {
       "model_id": "f917c4bb285f4cc4a35dcd77c036d7a8",
       "version_major": 2,
       "version_minor": 0
      },
      "text/plain": [
       "  0%|          | 0/28881 [00:00<?, ?it/s]"
      ]
     },
     "metadata": {},
     "output_type": "display_data"
    },
    {
     "name": "stdout",
     "output_type": "stream",
     "text": [
      "Extracting targets\\data\\MNIST\\raw\\train-labels-idx1-ubyte.gz to targets\\data\\MNIST\\raw\n",
      "\n",
      "Downloading http://yann.lecun.com/exdb/mnist/t10k-images-idx3-ubyte.gz\n",
      "Downloading http://yann.lecun.com/exdb/mnist/t10k-images-idx3-ubyte.gz to targets\\data\\MNIST\\raw\\t10k-images-idx3-ubyte.gz\n"
     ]
    },
    {
     "data": {
      "application/vnd.jupyter.widget-view+json": {
       "model_id": "07abd4f959d3496fac6c5b8d24984d34",
       "version_major": 2,
       "version_minor": 0
      },
      "text/plain": [
       "  0%|          | 0/1648877 [00:00<?, ?it/s]"
      ]
     },
     "metadata": {},
     "output_type": "display_data"
    },
    {
     "name": "stdout",
     "output_type": "stream",
     "text": [
      "Extracting targets\\data\\MNIST\\raw\\t10k-images-idx3-ubyte.gz to targets\\data\\MNIST\\raw\n",
      "\n",
      "Downloading http://yann.lecun.com/exdb/mnist/t10k-labels-idx1-ubyte.gz\n",
      "Downloading http://yann.lecun.com/exdb/mnist/t10k-labels-idx1-ubyte.gz to targets\\data\\MNIST\\raw\\t10k-labels-idx1-ubyte.gz\n"
     ]
    },
    {
     "data": {
      "application/vnd.jupyter.widget-view+json": {
       "model_id": "aed8d431d20044159c37ebdaa9322d51",
       "version_major": 2,
       "version_minor": 0
      },
      "text/plain": [
       "  0%|          | 0/4542 [00:00<?, ?it/s]"
      ]
     },
     "metadata": {},
     "output_type": "display_data"
    },
    {
     "name": "stdout",
     "output_type": "stream",
     "text": [
      "Extracting targets\\data\\MNIST\\raw\\t10k-labels-idx1-ubyte.gz to targets\\data\\MNIST\\raw\n",
      "\n",
      "Downloading http://fashion-mnist.s3-website.eu-central-1.amazonaws.com/train-images-idx3-ubyte.gz\n",
      "Downloading http://fashion-mnist.s3-website.eu-central-1.amazonaws.com/train-images-idx3-ubyte.gz to targets\\data\\FashionMNIST\\raw\\train-images-idx3-ubyte.gz\n"
     ]
    },
    {
     "data": {
      "application/vnd.jupyter.widget-view+json": {
       "model_id": "d9d95e2cbc174fa1915cfcccffc1588f",
       "version_major": 2,
       "version_minor": 0
      },
      "text/plain": [
       "  0%|          | 0/26421880 [00:00<?, ?it/s]"
      ]
     },
     "metadata": {},
     "output_type": "display_data"
    },
    {
     "name": "stdout",
     "output_type": "stream",
     "text": [
      "Extracting targets\\data\\FashionMNIST\\raw\\train-images-idx3-ubyte.gz to targets\\data\\FashionMNIST\\raw\n",
      "\n",
      "Downloading http://fashion-mnist.s3-website.eu-central-1.amazonaws.com/train-labels-idx1-ubyte.gz\n",
      "Downloading http://fashion-mnist.s3-website.eu-central-1.amazonaws.com/train-labels-idx1-ubyte.gz to targets\\data\\FashionMNIST\\raw\\train-labels-idx1-ubyte.gz\n"
     ]
    },
    {
     "data": {
      "application/vnd.jupyter.widget-view+json": {
       "model_id": "b0c19a5bfb4f4710ae0e8203a43e1e03",
       "version_major": 2,
       "version_minor": 0
      },
      "text/plain": [
       "  0%|          | 0/29515 [00:00<?, ?it/s]"
      ]
     },
     "metadata": {},
     "output_type": "display_data"
    },
    {
     "name": "stdout",
     "output_type": "stream",
     "text": [
      "Extracting targets\\data\\FashionMNIST\\raw\\train-labels-idx1-ubyte.gz to targets\\data\\FashionMNIST\\raw\n",
      "\n",
      "Downloading http://fashion-mnist.s3-website.eu-central-1.amazonaws.com/t10k-images-idx3-ubyte.gz\n",
      "Downloading http://fashion-mnist.s3-website.eu-central-1.amazonaws.com/t10k-images-idx3-ubyte.gz to targets\\data\\FashionMNIST\\raw\\t10k-images-idx3-ubyte.gz\n"
     ]
    },
    {
     "data": {
      "application/vnd.jupyter.widget-view+json": {
       "model_id": "8c5c461f711a41a38d09d1ea9fa7f6d2",
       "version_major": 2,
       "version_minor": 0
      },
      "text/plain": [
       "  0%|          | 0/4422102 [00:00<?, ?it/s]"
      ]
     },
     "metadata": {},
     "output_type": "display_data"
    },
    {
     "name": "stdout",
     "output_type": "stream",
     "text": [
      "Extracting targets\\data\\FashionMNIST\\raw\\t10k-images-idx3-ubyte.gz to targets\\data\\FashionMNIST\\raw\n",
      "\n",
      "Downloading http://fashion-mnist.s3-website.eu-central-1.amazonaws.com/t10k-labels-idx1-ubyte.gz\n",
      "Downloading http://fashion-mnist.s3-website.eu-central-1.amazonaws.com/t10k-labels-idx1-ubyte.gz to targets\\data\\FashionMNIST\\raw\\t10k-labels-idx1-ubyte.gz\n"
     ]
    },
    {
     "data": {
      "application/vnd.jupyter.widget-view+json": {
       "model_id": "8d43771e2e914624a82e588155c9a7b5",
       "version_major": 2,
       "version_minor": 0
      },
      "text/plain": [
       "  0%|          | 0/5148 [00:00<?, ?it/s]"
      ]
     },
     "metadata": {},
     "output_type": "display_data"
    },
    {
     "name": "stdout",
     "output_type": "stream",
     "text": [
      "Extracting targets\\data\\FashionMNIST\\raw\\t10k-labels-idx1-ubyte.gz to targets\\data\\FashionMNIST\\raw\n",
      "\n"
     ]
    }
   ],
   "source": [
    "from pre_processing import *\n",
    "from targets import *\n",
    "from utils import * \n",
    "from conditional_density_estimation import *\n",
    "from classifiers import * "
   ]
  },
  {
   "cell_type": "code",
   "execution_count": 3,
   "id": "9cff9cd3",
   "metadata": {},
   "outputs": [
    {
     "data": {
      "image/png": "[encoded data removed]",
      "text/plain": [
       "<Figure size 640x480 with 1 Axes>"
      ]
     },
     "metadata": {},
     "output_type": "display_data"
    }
   ],
   "source": [
    "samples, labels = get_MNIST_dataset(one_hot = True)\n",
    "pca = PCA(samples, n_components=50, visual = True)\n",
    "samples = pca.transform(samples)"
   ]
  },
  {
   "cell_type": "code",
   "execution_count": 4,
   "id": "23a36296",
   "metadata": {},
   "outputs": [],
   "source": [
    "samples_0 = samples[labels[:,0]==1]\n",
    "labels_0 = labels[labels[:,0]==1]\n",
    "samples_1 = samples[labels[:,1]==1]\n",
    "labels_1 = labels[labels[:,1]==1]\n",
    "train_samples = torch.cat([samples_0[:100], samples_1[100:]])\n",
    "train_labels = torch.cat([labels_0[:100], labels_1[100:]])\n",
    "test_samples = torch.cat([samples_0[100:], samples_1[:100]])\n",
    "test_labels = torch.cat([labels_0[100:], labels_1[:100]])"
   ]
  },
  {
   "cell_type": "code",
   "execution_count": null,
   "id": "61df956b",
   "metadata": {},
   "outputs": [
    {
     "data": {
      "image/png": "[encoded data removed]",
      "text/plain": [
       "<Figure size 640x480 with 1 Axes>"
      ]
     },
     "metadata": {},
     "output_type": "display_data"
    },
    {
     "name": "stderr",
     "output_type": "stream",
     "text": [
      " 24%|█████████████████████████████████▌                                                                                                          | 12/50 [00:26<01:25,  2.24s/it, loss = 0.0041; device = cuda; accuracy = tensor(0.9980)]"
     ]
    }
   ],
   "source": [
    "current_samples = torch.cat([train_samples, test_samples], dim =0)\n",
    "new_labels = torch.nn.functional.one_hot(torch.distributions.Categorical(torch.tensor([0.5]).unsqueeze(0).repeat(test_samples.shape[0],1)).sample(), num_classes=10)\n",
    "current_labels = torch.cat([train_labels, test_labels], dim =0)\n",
    "accuracy = []\n",
    "for t in range(10):\n",
    "    classifier = GenerativeClassifier(current_samples,current_labels,[16,16,16], K=5)\n",
    "    classifier.train(50,1000,verbose = True, lr = 5e-3)\n",
    "    new_labels = torch.nn.functional.one_hot(torch.distributions.Categorical(torch.exp(classifier.log_prob(test_samples))).sample(), num_classes=10)\n",
    "    current_labels = torch.cat([train_labels, new_labels], dim = 0)\n",
    "    current_samples = torch.cat([train_samples, test_samples],dim =0)\n",
    "    accuracy.append(compute_accuracy(classifier.log_prob(test_samples), test_labels))\n",
    "    clear_output(wait = True)\n",
    "    plt.plot(accuracy)\n",
    "    plt.show()\n",
    "    "
   ]
  },
  {
   "cell_type": "code",
   "execution_count": null,
   "id": "0f5bd90f",
   "metadata": {},
   "outputs": [],
   "source": []
  }
 ],
 "metadata": {
  "kernelspec": {
   "display_name": "Python 3 (ipykernel)",
   "language": "python",
   "name": "python3"
  },
  "language_info": {
   "codemirror_mode": {
    "name": "ipython",
    "version": 3
   },
   "file_extension": ".py",
   "mimetype": "text/x-python",
   "name": "python",
   "nbconvert_exporter": "python",
   "pygments_lexer": "ipython3",
   "version": "3.9.2"
  }
 },
 "nbformat": 4,
 "nbformat_minor": 5
}

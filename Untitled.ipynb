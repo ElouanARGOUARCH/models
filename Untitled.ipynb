{
 "cells": [
  {
   "cell_type": "code",
   "execution_count": 1,
   "id": "43b8cf4a",
   "metadata": {},
   "outputs": [],
   "source": [
    "import torch\n",
    "%load_ext autoreload\n",
    "%autoreload 2\n",
    "from IPython.display import clear_output"
   ]
  },
  {
   "cell_type": "code",
   "execution_count": 2,
   "id": "4459f803",
   "metadata": {},
   "outputs": [],
   "source": [
    "from pre_processing import *\n",
    "from targets import *\n",
    "from utils import * \n",
    "from conditional_density_estimation import *\n",
    "from classifiers import * "
   ]
  },
  {
   "cell_type": "code",
   "execution_count": 3,
   "id": "23a36296",
   "metadata": {},
   "outputs": [
    {
     "data": {
      "image/png": "[encoded data removed]",
      "text/plain": [
       "<Figure size 640x480 with 1 Axes>"
      ]
     },
     "metadata": {},
     "output_type": "display_data"
    }
   ],
   "source": [
    "samples, labels = get_MNIST_dataset(one_hot = True)\n",
    "pca = PCA(samples, n_components=50, visual = True)\n",
    "number_to_switch = 100\n",
    "samples = pca.transform(samples)\n",
    "samples0 = samples[labels[:,0]==1]\n",
    "labels0 = labels[labels[:,0]==1]\n",
    "other_samples = samples[labels[:,0]==0]\n",
    "other_labels = labels[labels[:,0]==0]\n",
    "train_samples = torch.cat([samples0[:number_to_switch], other_samples[number_to_switch:]])\n",
    "train_labels = torch.cat([labels0[:number_to_switch], other_labels[number_to_switch:]])\n",
    "test_samples = torch.cat([samples0[number_to_switch:], other_samples[:number_to_switch]])\n",
    "test_labels = torch.cat([labels0[number_to_switch:], other_labels[:number_to_switch]])\n",
    "\n",
    "def shuffle(tensor, randperm=None):\n",
    "    if randperm is None:\n",
    "        randperm = torch.randperm(tensor.shape[0])\n",
    "    return tensor[randperm], randperm\n",
    "\n",
    "train_samples, randperm = shuffle(train_samples)[:10000]\n",
    "train_labels,_ = shuffle(train_labels, randperm)[:10000]\n",
    "test_samples, randperm = shuffle(test_samples)\n",
    "test_labels,_ = shuffle(test_labels, randperm)\n",
    "train_samples = train_samples\n",
    "test_samples = test_samples\n",
    "train_labels = train_labels\n",
    "test_labels = test_labels\n"
   ]
  },
  {
   "cell_type": "code",
   "execution_count": 4,
   "id": "8c645444",
   "metadata": {},
   "outputs": [
    {
     "name": "stderr",
     "output_type": "stream",
     "text": [
      "100%|████████████████████████████████████████████████████████████████████████████████████████████████████| 100/100 [13:56<00:00,  8.37s/it, loss = 0.1067; device = cuda; train_accuracy = tensor(0.9628); test_accuracy = tensor(0.7630)]\n"
     ]
    }
   ],
   "source": [
    "genclass = GenerativeClassifier(train_samples, train_labels, [64,64,64], K = 5)\n",
    "train_accuracy, test_accuracy = genclass.train(100,1000,verbose=True, lr=5e-3, test_samples = test_samples, test_labels = test_labels, trace_accuracy = True)"
   ]
  },
  {
   "cell_type": "code",
   "execution_count": 32,
   "id": "f84c3c4e",
   "metadata": {},
   "outputs": [
    {
     "name": "stderr",
     "output_type": "stream",
     "text": [
      "100%|████████████████████████████████████████████████████████████████████████████████████████████████████████████████████████████████████████████████████████████████████████████████████| 100/100 [02:40<00:00,  1.61s/it, loss = 0.9105; device = cuda; train_accuracy = tensor(0.9485); test_accuracy = tensor(0.0139)]\n"
     ]
    }
   ],
   "source": [
    "disclass = Classifier(train_samples, train_labels,[64,64,64])\n",
    "disclass.train(100,1000, lr = 5e-3, verbose = True,test_samples = test_samples, test_labels = test_labels)"
   ]
  },
  {
   "cell_type": "code",
   "execution_count": null,
   "id": "0f5bd90f",
   "metadata": {},
   "outputs": [],
   "source": []
  }
 ],
 "metadata": {
  "kernelspec": {
   "display_name": "Python 3 (ipykernel)",
   "language": "python",
   "name": "python3"
  },
  "language_info": {
   "codemirror_mode": {
    "name": "ipython",
    "version": 3
   },
   "file_extension": ".py",
   "mimetype": "text/x-python",
   "name": "python",
   "nbconvert_exporter": "python",
   "pygments_lexer": "ipython3",
   "version": "3.9.2"
  }
 },
 "nbformat": 4,
 "nbformat_minor": 5
}
